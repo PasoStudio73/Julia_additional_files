{
 "cells": [
  {
   "cell_type": "markdown",
   "metadata": {},
   "source": [
    "# SoleXplorer"
   ]
  },
  {
   "cell_type": "code",
   "execution_count": 33,
   "metadata": {},
   "outputs": [],
   "source": [
    "using Sole, SoleXplorer\n",
    "using StatsBase, MLJ\n",
    "using Random, DataFrames"
   ]
  },
  {
   "cell_type": "markdown",
   "metadata": {},
   "source": [
    "Load NATOPS dataset, composed of time series"
   ]
  },
  {
   "cell_type": "code",
   "execution_count": 4,
   "metadata": {},
   "outputs": [
    {
     "data": {
      "text/plain": [
       "(\u001b[1m360×24 DataFrame\u001b[0m\n",
       "\u001b[1m Row \u001b[0m│\u001b[1m X[Hand tip l]                     \u001b[0m\u001b[1m Y[Hand tip l]                     \u001b[0m\u001b[1m Z\u001b[0m ⋯\n",
       "     │\u001b[90m Array…                            \u001b[0m\u001b[90m Array…                            \u001b[0m\u001b[90m A\u001b[0m ⋯\n",
       "─────┼──────────────────────────────────────────────────────────────────────────\n",
       "   1 │ [-0.519771, -0.52758, -0.531415,…  [-2.14011, -2.18043, -2.18425, -…  [ ⋯\n",
       "   2 │ [-0.489753, -0.48607, -0.484529,…  [-1.55293, -1.54966, -1.55206, -…  [\n",
       "   3 │ [-0.521346, -0.518394, -0.522321…  [-1.72326, -1.72407, -1.72326, -…  [\n",
       "   4 │ [-0.57022, -0.562064, -0.565967,…  [-1.91196, -1.90369, -1.90527, -…  [\n",
       "   5 │ [-0.624417, -0.626031, -0.625388…  [-1.84287, -1.84026, -1.84688, -…  [ ⋯\n",
       "   6 │ [-0.502501, -0.502525, -0.499415…  [-2.17556, -2.15613, -2.18516, -…  [\n",
       "   7 │ [-0.488461, -0.489463, -0.487539…  [-2.17242, -2.18203, -2.18057, -…  [\n",
       "   8 │ [-0.468105, -0.410602, -0.473909…  [-1.86535, -1.89011, -1.87105, -…  [\n",
       "  ⋮  │                 ⋮                                  ⋮                    ⋱\n",
       " 354 │ [-0.500404, -0.502824, -0.504771…  [-1.89209, -1.88986, -1.89188, -…  [ ⋯\n",
       " 355 │ [-0.686893, -0.690966, -0.710514…  [-2.04375, -2.05011, -2.07035, -…  [\n",
       " 356 │ [-0.525938, -0.516073, -0.5177, …  [-1.69259, -1.70519, -1.70824, -…  [\n",
       " 357 │ [-0.440887, -0.452221, -0.447185…  [-1.90444, -1.91917, -1.91652, -…  [\n",
       " 358 │ [-0.647672, -0.653511, -0.642305…  [-1.6173, -1.61051, -1.60491, -1…  [ ⋯\n",
       " 359 │ [-0.476117, -0.4705, -0.474443, …  [-1.70846, -1.7099, -1.70912, -1…  [\n",
       " 360 │ [-0.553245, -0.551704, -0.548044…  [-1.69493, -1.69349, -1.69951, -…  [\n",
       "\u001b[36m                                                 22 columns and 345 rows omitted\u001b[0m, CategoricalArrays.CategoricalValue{String, UInt32}[\"I have command\", \"I have command\", \"I have command\", \"I have command\", \"I have command\", \"I have command\", \"I have command\", \"I have command\", \"I have command\", \"I have command\"  …  \"Lock wings\", \"Lock wings\", \"Lock wings\", \"Lock wings\", \"Lock wings\", \"Lock wings\", \"Lock wings\", \"Lock wings\", \"Lock wings\", \"Lock wings\"])"
      ]
     },
     "metadata": {},
     "output_type": "display_data"
    }
   ],
   "source": [
    "X, y = Sole.load_arff_dataset(\"NATOPS\")"
   ]
  },
  {
   "cell_type": "markdown",
   "metadata": {},
   "source": [
    "Set Random for reproducibility"
   ]
  },
  {
   "cell_type": "code",
   "execution_count": null,
   "metadata": {},
   "outputs": [
    {
     "data": {
      "text/plain": [
       "TaskLocalRNG()"
      ]
     },
     "metadata": {},
     "output_type": "display_data"
    }
   ],
   "source": [
    "train_seed = 11\n",
    "rng        = Random.Xoshiro(train_seed)"
   ]
  },
  {
   "cell_type": "markdown",
   "metadata": {},
   "source": [
    "### Simple examples of using SoleXplorer"
   ]
  },
  {
   "cell_type": "markdown",
   "metadata": {},
   "source": [
    "## Decision Tree"
   ]
  },
  {
   "cell_type": "code",
   "execution_count": 68,
   "metadata": {},
   "outputs": [
    {
     "data": {
      "text/plain": [
       "ModelConfig:\n",
       "    setup      =SymbolicModelSet(type=MLJDecisionTreeInterface.DecisionTreeClassifier, features=4)\n",
       "    classifier =DecisionTreeClassifier(max_depth = -1, …)\n",
       "    rules      =nothing\n",
       "    accuracy   =nothing\n"
      ]
     },
     "metadata": {},
     "output_type": "display_data"
    }
   ],
   "source": [
    "Random.seed!(train_seed)\n",
    "model = traintest(X, y; models=(; type=:decisiontree, rng=rng))"
   ]
  },
  {
   "cell_type": "code",
   "execution_count": 53,
   "metadata": {},
   "outputs": [
    {
     "data": {
      "text/plain": [
       "trained Machine; caches model-specific representations of data\n",
       "  model: DecisionTreeClassifier(max_depth = -1, …)\n",
       "  args: \n",
       "    1:\tSource @606 ⏎ Table{AbstractVector{Continuous}}\n",
       "    2:\tSource @453 ⏎ AbstractVector{Multiclass{6}}\n"
      ]
     },
     "metadata": {},
     "output_type": "display_data"
    }
   ],
   "source": [
    "model.mach"
   ]
  },
  {
   "cell_type": "code",
   "execution_count": 54,
   "metadata": {},
   "outputs": [
    {
     "data": {
      "text/plain": [
       "\u001b[34m▣\u001b[0m ([std(Z[Elbow l])w1] < 0.08596251206097288)\n",
       "├✔ ([std(Y[Hand tip r])w1] < 1.1566050775773289)\n",
       "│ ├✔ ([maximum(Y[Elbow r])w1] < 0.212721)\n",
       "│ │ ├✔ ([maximum(Y[Hand tip r])w1] < 0.3105835)\n",
       "│ │ │ ├✔ ([maximum(Y[Elbow r])w1] < 0.0018995000000000001)\n",
       "│ │ │ │ ├✔ ([mean(Y[Hand tip l])w1] < -2.12836987254902)\n",
       "│ │ │ │ │ ├✔ Not clear\n",
       "│ │ │ │ │ └✘ All clear\n",
       "│ │ │ │ └✘ ([std(X[Hand tip r])w1] < 0.7329422471876528)\n",
       "│ │ │ │   ├✔ Not clear\n",
       "│ │ │ │   └✘ All clear\n",
       "│ │ │ └✘ ([mean(Y[Thumb r])w1] < -1.0434569705882355)\n",
       "│ │ │   ├✔ ([maximum(Y[Elbow r])w1] < 0.0970635)\n",
       "│ │ │   │ ├✔ All clear\n",
       "│ │ │   │ └✘ Not clear\n",
       "│ │ │   └✘ All clear\n",
       "│ │ └✘ ([maximum(Y[Hand tip r])w1] < 0.7871275)\n",
       "│ │   ├✔ Not clear\n",
       "│ │   └✘ ([std(Y[Wrist r])w1] < 0.8482700353263318)\n",
       "│ │     ├✔ All clear\n",
       "│ │     └✘ Not clear\n",
       "│ └✘ ([std(Y[Elbow l])w1] < 0.05585516323564049)\n",
       "│   ├✔ I have command\n",
       "│   └✘ ([minimum(Y[Thumb l])w1] < -1.9731075)\n",
       "│     ├✔ I have command\n",
       "│     └✘ All clear\n",
       "└✘ ([std(X[Thumb r])w1] < 0.5878229455602122)\n",
       "  ├✔ Lock wings\n",
       "  └✘ ([mean(X[Thumb r])w1] < 1.0036771078431372)\n",
       "    ├✔ ([mean(X[Thumb l])w1] < -0.7915345294117647)\n",
       "    │ ├✔ ([mean(X[Thumb r])w1] < 0.7086995882352942)\n",
       "    │ │ ├✔ ([std(Z[Elbow r])w1] < 0.213862850083713)\n",
       "    │ │ │ ├✔ Spread wings\n",
       "    │ │ │ └✘ Fold wings\n",
       "    │ │ └✘ ([std(X[Elbow l])w1] < 0.3271009655302015)\n",
       "    │ │   ├✔ ([maximum(Y[Hand tip l])w1] < 1.1840385000000002)\n",
       "    │ │   │ ├✔ Spread wings\n",
       "    │ │   │ └✘ Fold wings\n",
       "    │ │   └✘ Fold wings\n",
       "    │ └✘ ([maximum(Y[Hand tip r])w1] < 0.758647)\n",
       "    │   ├✔ ([maximum(Z[Elbow l])w1] < -0.060200500000000004)\n",
       "    │   │ ├✔ ([maximum(Y[Thumb r])w1] < 0.362958)\n",
       "    │   │ │ ├✔ Fold wings\n",
       "    │   │ │ └✘ ([std(Y[Wrist l])w1] < 0.7497866307474894)\n",
       "    │   │ │   ├✔ Spread wings\n",
       "    │   │ │   └✘ ([std(Y[Thumb l])w1] < 0.9178695845068349)\n",
       "    │   │ │     ├✔ Fold wings\n",
       "    │   │ │     └✘ Spread wings\n",
       "    │   │ └✘ Fold wings\n",
       "    │   └✘ Fold wings\n",
       "    └✘ Spread wings\n"
      ]
     },
     "metadata": {},
     "output_type": "display_data"
    }
   ],
   "source": [
    "model.model"
   ]
  },
  {
   "cell_type": "markdown",
   "metadata": {},
   "source": [
    "La prediction è fatta sul modello originale, non sul modello Sole. Chiedere se è possibile fare la predizione sul modello Sole."
   ]
  },
  {
   "cell_type": "code",
   "execution_count": 70,
   "metadata": {},
   "outputs": [
    {
     "data": {
      "text/plain": [
       "0.7361111111111112"
      ]
     },
     "metadata": {},
     "output_type": "display_data"
    }
   ],
   "source": [
    "preds = MLJ.predict(model.mach, model.ds.Xtest)\n",
    "yhat = MLJ.mode.(preds)\n",
    "acc = MLJ.accuracy(yhat, model.ds.ytest)"
   ]
  },
  {
   "cell_type": "markdown",
   "metadata": {},
   "source": [
    "Non c'è bisongo di definire se l'esperimento è di classificazione o regressione."
   ]
  },
  {
   "cell_type": "markdown",
   "metadata": {},
   "source": [
    "## Random Forest"
   ]
  },
  {
   "cell_type": "code",
   "execution_count": 73,
   "metadata": {},
   "outputs": [
    {
     "data": {
      "text/plain": [
       "ModelConfig:\n",
       "    setup      =SymbolicModelSet(type=MLJDecisionTreeInterface.RandomForestClassifier, features=4)\n",
       "    classifier =RandomForestClassifier(max_depth = -1, …)\n",
       "    rules      =nothing\n",
       "    accuracy   =nothing\n"
      ]
     },
     "metadata": {},
     "output_type": "display_data"
    }
   ],
   "source": [
    "Random.seed!(train_seed)\n",
    "model = traintest(X, y; models=(type=:randomforest, rng=rng))"
   ]
  },
  {
   "cell_type": "code",
   "execution_count": 74,
   "metadata": {},
   "outputs": [
    {
     "data": {
      "text/plain": [
       "0.75"
      ]
     },
     "metadata": {},
     "output_type": "display_data"
    }
   ],
   "source": [
    "preds = MLJ.predict(model.mach, model.ds.Xtest)\n",
    "yhat = MLJ.mode.(preds)\n",
    "acc = MLJ.accuracy(yhat, model.ds.ytest)"
   ]
  },
  {
   "cell_type": "markdown",
   "metadata": {},
   "source": [
    "## XGBoost"
   ]
  },
  {
   "cell_type": "code",
   "execution_count": 24,
   "metadata": {},
   "outputs": [
    {
     "name": "stderr",
     "output_type": "stream",
     "text": [
      "┌ Warning: Parity encountered in bestguess! counts (458 elements): Dict{CategoricalArrays.CategoricalValue{String, UInt32}, Int64}(\"Spread wings\" => 13, \"Lock wings\" => 169, \"Not clear\" => 34, \"I have command\" => 169, \"Fold wings\" => 39, \"All clear\" => 34), argmax: Lock wings, max: 169 (sum = 458)\n",
      "└ @ SoleBase /home/paso/Documents/Aclai/Sole/SoleBase.jl/src/machine-learning-utils.jl:93\n"
     ]
    },
    {
     "data": {
      "text/plain": [
       "ModelConfig:\n",
       "    setup      =SymbolicModelSet(type=MLJXGBoostInterface.XGBoostClassifier, features=4)\n",
       "    classifier =XGBoostClassifier(test = 1, …)\n",
       "    rules      =nothing\n",
       "    accuracy   =nothing\n"
      ]
     },
     "metadata": {},
     "output_type": "display_data"
    }
   ],
   "source": [
    "model = traintest(X, y; models=(; type=:xgboost))"
   ]
  },
  {
   "cell_type": "code",
   "execution_count": 25,
   "metadata": {},
   "outputs": [
    {
     "data": {
      "text/plain": [
       "0.7777777777777778"
      ]
     },
     "metadata": {},
     "output_type": "display_data"
    }
   ],
   "source": [
    "preds = MLJ.predict(model.mach, model.ds.Xtest)\n",
    "yhat = MLJ.mode.(preds)\n",
    "acc = MLJ.accuracy(yhat, model.ds.ytest)"
   ]
  },
  {
   "cell_type": "markdown",
   "metadata": {},
   "source": [
    "## Modal DecisionTree"
   ]
  },
  {
   "cell_type": "code",
   "execution_count": null,
   "metadata": {},
   "outputs": [
    {
     "name": "stdout",
     "output_type": "stream",
     "text": [
      "model isa SymbolicModel = true\n"
     ]
    },
    {
     "name": "stderr",
     "output_type": "stream",
     "text": [
      "┌ Info: Precomputing logiset...\n",
      "└ @ SoleData /home/paso/Documents/Aclai/Sole/SoleData.jl/src/utils/autologiset-tools.jl:277\n"
     ]
    },
    {
     "data": {
      "text/plain": [
       "ModelConfig:\n",
       "    setup      =SymbolicModelSet(type=ModalDecisionTrees.MLJInterface.ModalDecisionTree, features=4)\n",
       "    classifier =ModalDecisionTree(max_depth = nothing, …)\n",
       "    rules      =nothing\n",
       "    accuracy   =nothing\n"
      ]
     },
     "metadata": {},
     "output_type": "display_data"
    }
   ],
   "source": [
    "Random.seed!(train_seed)\n",
    "model = traintest(X, y; models=(; type=:modaldecisiontree, rng=rng))"
   ]
  },
  {
   "cell_type": "code",
   "execution_count": 27,
   "metadata": {},
   "outputs": [
    {
     "data": {
      "text/plain": [
       "0.8194444444444444"
      ]
     },
     "metadata": {},
     "output_type": "display_data"
    }
   ],
   "source": [
    "preds = MLJ.predict(model.mach, model.ds.Xtest)\n",
    "yhat = MLJ.mode.(preds)\n",
    "acc = MLJ.accuracy(yhat, model.ds.ytest)"
   ]
  },
  {
   "cell_type": "markdown",
   "metadata": {},
   "source": [
    "## Modal RandomForest"
   ]
  },
  {
   "cell_type": "code",
   "execution_count": null,
   "metadata": {},
   "outputs": [
    {
     "name": "stderr",
     "output_type": "stream",
     "text": [
      "┌ Info: Precomputing logiset...\n",
      "└ @ SoleData /home/paso/Documents/Aclai/Sole/SoleData.jl/src/utils/autologiset-tools.jl:277\n",
      "\u001b[32mApplying trees... 100%|██████████████████████████████████| Time: 0:00:06\u001b[39m\n",
      "┌ Warning: Parity encountered in bestguess! counts (10 elements): Dict(\"Not clear\" => 5, \"All clear\" => 5), argmax: Not clear, max: 5 (sum = 10)\n",
      "└ @ SoleBase /home/paso/Documents/Aclai/Sole/SoleBase.jl/src/machine-learning-utils.jl:93\n",
      "┌ Warning: Parity encountered in bestguess! counts (10 elements): Dict(\"Not clear\" => 5, \"All clear\" => 5), argmax: Not clear, max: 5 (sum = 10)\n",
      "└ @ SoleBase /home/paso/Documents/Aclai/Sole/SoleBase.jl/src/machine-learning-utils.jl:93\n",
      "┌ Warning: Parity encountered in bestguess! counts (10 elements): Dict(\"Not clear\" => 5, \"All clear\" => 5), argmax: Not clear, max: 5 (sum = 10)\n",
      "└ @ SoleBase /home/paso/Documents/Aclai/Sole/SoleBase.jl/src/machine-learning-utils.jl:93\n",
      "┌ Warning: Parity encountered in bestguess! counts (10 elements): Dict(\"Not clear\" => 5, \"All clear\" => 5), argmax: Not clear, max: 5 (sum = 10)\n",
      "└ @ SoleBase /home/paso/Documents/Aclai/Sole/SoleBase.jl/src/machine-learning-utils.jl:93\n",
      "┌ Warning: Parity encountered in bestguess! counts (10 elements): Dict(\"I have command\" => 5, \"All clear\" => 5), argmax: I have command, max: 5 (sum = 10)\n",
      "└ @ SoleBase /home/paso/Documents/Aclai/Sole/SoleBase.jl/src/machine-learning-utils.jl:93\n"
     ]
    },
    {
     "data": {
      "text/plain": [
       "ModelConfig:\n",
       "    setup      =SymbolicModelSet(type=ModalDecisionTrees.MLJInterface.ModalRandomForest, features=4)\n",
       "    classifier =ModalRandomForest(sampling_fraction = 0.7, …)\n",
       "    rules      =nothing\n",
       "    accuracy   =nothing\n"
      ]
     },
     "metadata": {},
     "output_type": "display_data"
    }
   ],
   "source": [
    "Random.seed!(train_seed)\n",
    "model = traintest(X, y; models=(; type=:modalrandomforest, rng=rng))"
   ]
  },
  {
   "cell_type": "code",
   "execution_count": 19,
   "metadata": {},
   "outputs": [
    {
     "data": {
      "text/plain": [
       "0.875"
      ]
     },
     "metadata": {},
     "output_type": "display_data"
    }
   ],
   "source": [
    "preds = MLJ.predict(model.mach, model.ds.Xtest)\n",
    "yhat = MLJ.mode.(preds)\n",
    "acc = MLJ.accuracy(yhat, model.ds.ytest)"
   ]
  },
  {
   "cell_type": "markdown",
   "metadata": {},
   "source": [
    "## Scegliamo DecisionTree da ottimizzare, perchè è il più scarso"
   ]
  },
  {
   "cell_type": "code",
   "execution_count": 85,
   "metadata": {},
   "outputs": [
    {
     "data": {
      "text/plain": [
       "0.7361111111111112"
      ]
     },
     "metadata": {},
     "output_type": "display_data"
    }
   ],
   "source": [
    "Random.seed!(train_seed)\n",
    "model = traintest(X, y; models=(; type=:decisiontree, rng=rng))\n",
    "preds = MLJ.predict(model.mach, model.ds.Xtest)\n",
    "yhat = MLJ.mode.(preds)\n",
    "acc = MLJ.accuracy(yhat, model.ds.ytest)"
   ]
  },
  {
   "cell_type": "markdown",
   "metadata": {},
   "source": [
    "## Posso modificare i parametri di preparazione del dataset:\n",
    "tipo, anzicheè usare una sola \"finestra\" e ridurre il dato ad una singola dimensione,\n",
    "potrei usare più finestre e ridurre il dato ad una dimensione per ogni finestra."
   ]
  },
  {
   "cell_type": "code",
   "execution_count": 81,
   "metadata": {},
   "outputs": [
    {
     "data": {
      "text/plain": [
       "0.875"
      ]
     },
     "metadata": {},
     "output_type": "display_data"
    }
   ],
   "source": [
    "Random.seed!(train_seed)\n",
    "model = traintest(X, y; \n",
    "    models=(\n",
    "        type=:decisiontree,\n",
    "        winparams=(; type=adaptivewindow, nwindows=5),)\n",
    "    )\n",
    "\n",
    "preds = MLJ.predict(model.mach, model.ds.Xtest)\n",
    "yhat = MLJ.mode.(preds)\n",
    "acc = MLJ.accuracy(yhat, model.ds.ytest)"
   ]
  },
  {
   "cell_type": "markdown",
   "metadata": {},
   "source": [
    "Potrei anche decidere che feature utilizzare"
   ]
  },
  {
   "cell_type": "code",
   "execution_count": 86,
   "metadata": {},
   "outputs": [
    {
     "data": {
      "text/plain": [
       "0.7638888888888888"
      ]
     },
     "metadata": {},
     "output_type": "display_data"
    }
   ],
   "source": [
    "Random.seed!(train_seed)\n",
    "model = traintest(X, y; \n",
    "    models=(\n",
    "        type=:decisiontree,\n",
    "        features=[minimum, maximum, mean, cov, std],)\n",
    "    )\n",
    "\n",
    "preds = MLJ.predict(model.mach, model.ds.Xtest)\n",
    "yhat = MLJ.mode.(preds)\n",
    "acc = MLJ.accuracy(yhat, model.ds.ytest)"
   ]
  },
  {
   "cell_type": "markdown",
   "metadata": {},
   "source": [
    "Proviamo a unire?"
   ]
  },
  {
   "cell_type": "code",
   "execution_count": 92,
   "metadata": {},
   "outputs": [
    {
     "data": {
      "text/plain": [
       "0.8472222222222222"
      ]
     },
     "metadata": {},
     "output_type": "display_data"
    }
   ],
   "source": [
    "Random.seed!(train_seed)\n",
    "model = traintest(X, y; \n",
    "    models=(\n",
    "        type=:decisiontree,\n",
    "        features=[minimum, maximum, mean, cov, std],\n",
    "        winparams=(; type=adaptivewindow, nwindows=5),)\n",
    "    )\n",
    "\n",
    "preds = MLJ.predict(model.mach, model.ds.Xtest)\n",
    "yhat = MLJ.mode.(preds)\n",
    "acc = MLJ.accuracy(yhat, model.ds.ytest)"
   ]
  }
 ],
 "metadata": {
  "kernelspec": {
   "display_name": "Julia 1.11.3",
   "language": "julia",
   "name": "julia-1.11"
  },
  "language_info": {
   "file_extension": ".jl",
   "mimetype": "application/julia",
   "name": "julia",
   "version": "1.11.3"
  }
 },
 "nbformat": 4,
 "nbformat_minor": 2
}
