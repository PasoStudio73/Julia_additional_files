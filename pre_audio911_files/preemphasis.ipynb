{
 "cells": [
  {
   "cell_type": "code",
   "execution_count": 3,
   "metadata": {},
   "outputs": [
    {
     "name": "stdout",
     "output_type": "stream",
     "text": [
      "[ 9.4384886e-06 -1.0991935e-05  1.1085998e-05 ... -1.0409392e-05\n",
      "  8.6827204e-06 -1.3038982e-05]\n"
     ]
    }
   ],
   "source": [
    "import numpy as np\n",
    "import scipy.signal\n",
    "from typing import Optional, Tuple, Union\n",
    "from numpy.typing import ArrayLike\n",
    "import librosa\n",
    "\n",
    "sr = 8000\n",
    "_wav_file_ = \"/home/riccardopasini/Documents/Aclai/Julia_additional_files/test.wav\"\n",
    "(wav_data, sampling_frequency) = librosa.load(_wav_file_, sr=sr, mono=True)\n",
    "\n",
    "print (wav_data)"
   ]
  },
  {
   "cell_type": "code",
   "execution_count": 12,
   "metadata": {},
   "outputs": [],
   "source": [
    "def preemphasis(\n",
    "    y: np.ndarray,\n",
    "    *,\n",
    "    coef: float = 0.97,\n",
    "    zi: Optional[ArrayLike] = None,\n",
    "    return_zf: bool = False,\n",
    ") -> Union[np.ndarray, Tuple[np.ndarray, np.ndarray]]:\n",
    "\n",
    "    b = np.asarray([1.0, -coef], dtype=y.dtype)\n",
    "    a = np.asarray([1.0], dtype=y.dtype)\n",
    "\n",
    "    print(a)\n",
    "    print(b)\n",
    "\n",
    "    if zi is None:\n",
    "        # Initialize the filter to implement linear extrapolation\n",
    "        zi = 2 * y[..., 0:1] - y[..., 1:2]\n",
    "\n",
    "    print(y[..., 0:1])\n",
    "    print(y[..., 1:2])\n",
    "    zi = np.atleast_1d(zi)\n",
    "    print(zi)\n",
    "\n",
    "    y_out: np.ndarray\n",
    "    z_f: np.ndarray\n",
    "\n",
    "    y_out, z_f = scipy.signal.lfilter(b, a, y, zi=np.asarray(zi, dtype=y.dtype))\n",
    "\n",
    "    if return_zf:\n",
    "        return y_out, z_f\n",
    "\n",
    "    return y_out"
   ]
  },
  {
   "cell_type": "code",
   "execution_count": 13,
   "metadata": {},
   "outputs": [
    {
     "name": "stdout",
     "output_type": "stream",
     "text": [
      "[1.]\n",
      "[ 1.   -0.97]\n",
      "[9.438489e-06]\n",
      "[-1.0991935e-05]\n",
      "[2.9868912e-05]\n",
      "[ 3.9307401e-05 -2.0147269e-05  2.1748176e-05 ... -2.2061226e-05\n",
      "  1.8779832e-05 -2.1461221e-05]\n"
     ]
    }
   ],
   "source": [
    "wav_emph = preemphasis(wav_data)\n",
    "\n",
    "print (wav_emph)"
   ]
  },
  {
   "cell_type": "code",
   "execution_count": 24,
   "metadata": {},
   "outputs": [
    {
     "name": "stdout",
     "output_type": "stream",
     "text": [
      "[1]\n",
      "[2]\n"
     ]
    }
   ],
   "source": [
    "y=np.array([1,2,3,4,5])\n",
    "# z = 2 * y[..., 0:1] - y[..., 1:2]\n",
    "print (y[..., 0:1])\n",
    "print (y[..., 1:2])"
   ]
  }
 ],
 "metadata": {
  "kernelspec": {
   "display_name": "Python 3",
   "language": "python",
   "name": "python3"
  },
  "language_info": {
   "codemirror_mode": {
    "name": "ipython",
    "version": 3
   },
   "file_extension": ".py",
   "mimetype": "text/x-python",
   "name": "python",
   "nbconvert_exporter": "python",
   "pygments_lexer": "ipython3",
   "version": "3.11.6"
  }
 },
 "nbformat": 4,
 "nbformat_minor": 2
}
